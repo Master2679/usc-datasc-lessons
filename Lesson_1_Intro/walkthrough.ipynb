{
 "cells": [
  {
   "cell_type": "markdown",
   "metadata": {},
   "source": [
    "create briefing for the lesson w/ sample exercises\n",
    "\n",
    "\"Ready to Advance?\" section \n",
    "- suggested material \n",
    "- challenge exercises\n",
    "- mini project"
   ]
  },
  {
   "cell_type": "markdown",
   "metadata": {},
   "source": [
    "fill-in-the-blank code snippets embedded in the lesson as practice exercises"
   ]
  },
  {
   "cell_type": "markdown",
   "metadata": {},
   "source": [
    "## Contents\n",
    "1. Introduction to Programming\n",
    "2. Introduction to Python\n",
    "3. Traditional Data Representation\n",
    "4. Data Representation in Python\n",
    "5. Exercises"
   ]
  },
  {
   "cell_type": "markdown",
   "metadata": {},
   "source": [
    "## Section 1: Introduction to Programming"
   ]
  },
  {
   "cell_type": "markdown",
   "metadata": {},
   "source": [
    "### What is programming?\n",
    "Right now, you are working inside of an **integrated development environment**, or IDE. This is a program that allows you to write, run, and test code. Think of each line of code that you write as an instruction to the computer. When you run the code, the computer will execute each instruction in the order in which it is written.\n",
    "\n",
    "### How do we write code?\n",
    "Every programming language has a set of rules that dictate how code should be written. These rules are called **syntax**. If you don't follow the syntax of a language, the computer will not be able to understand your code. Python is known for having a very simple and easy-to-understand syntax, which is why it is often recommended as a first language for beginners. It is also very powerful and versatile, which is why it is used by many professional developers, particularly in the interdisciplinary fields of data science and machine learning.\n",
    "\n",
    "### How can you get started?\n",
    "This notebook will introduce you to the basics of programming and Python. You will learn how to write and run code, and you will also learn about the different types of data that you can work with in Python. By the end of this notebook, you will be able to write simple programs that can perform calculations and manipulate data. One critical thing to always remember while programming is that **you are in control**. You are the one who decides what the computer should do, and you are the one who tells it how to do it. The computer will only do what you tell it to do, so it is important to be very clear and precise in your instructions. This is also important for debugging purposes."
   ]
  },
  {
   "cell_type": "markdown",
   "metadata": {},
   "source": [
    "## Section 2: Introduction to Python"
   ]
  },
  {
   "cell_type": "markdown",
   "metadata": {},
   "source": [
    "Now that you have a high-level understanding of programming, let's dive into Python. As mentioned above, Python is a very popular programming language that is known for its simplicity and versatility. However, this does not mean it is *easy*. Python is a powerful tool and there are many intracacies and best practices you must learn if you wis to become proficient. Given that the purpose of this course (and our club) is to help you build the skills necessary for data science, we will be skipping many of the Python fundamentals that are not directly related to data science. However, if you are interested in learning more about Python, there are many resources available online, including this free course from [Harvard University](https://www.edx.org/certificates/professional-certificate/harvardx-computer-science-for-python-programming)."
   ]
  },
  {
   "cell_type": "code",
   "execution_count": 1,
   "metadata": {},
   "outputs": [],
   "source": [
    "# printing\n",
    "# conditional logic?\n",
    "# loops\n",
    "# functions\n",
    "# data types / variables"
   ]
  },
  {
   "cell_type": "markdown",
   "metadata": {},
   "source": [
    "## Section 3: Traditional Data Representation"
   ]
  },
  {
   "cell_type": "code",
   "execution_count": null,
   "metadata": {},
   "outputs": [],
   "source": [
    "# dataset: iris (https://scikit-learn.org/stable/auto_examples/datasets/plot_iris_dataset.html)\n",
    "\n",
    "\"\"\"\n",
    "- i/o\n",
    "- sorting\n",
    "- filtering\n",
    "- searching\n",
    "- editing\n",
    "- adding\n",
    "- removing\n",
    "- visualization\n",
    "\"\"\""
   ]
  },
  {
   "cell_type": "markdown",
   "metadata": {},
   "source": [
    "## Section 4: Data Representation in Python"
   ]
  },
  {
   "cell_type": "markdown",
   "metadata": {},
   "source": [
    "other example datasets\n",
    "- churn dataset\n"
   ]
  },
  {
   "cell_type": "code",
   "execution_count": null,
   "metadata": {},
   "outputs": [],
   "source": [
    "\"\"\"\n",
    "same as section 3 but in python\n",
    "- intro to visualization\n",
    "\"\"\""
   ]
  },
  {
   "cell_type": "markdown",
   "metadata": {},
   "source": [
    "## Section 5: Exercises"
   ]
  },
  {
   "cell_type": "markdown",
   "metadata": {},
   "source": [
    "- read in a dataframe\n",
    "- column operations\n",
    "- row operations\n",
    "- strings (slicing and indexing)\n",
    "\n",
    "take inspo from: https://www.kaggle.com/code/coopergamble/exercise-functions/edit\n",
    "- increasing complexity through exercises up to code block from scratch\n",
    "\n",
    "challenge exercises"
   ]
  },
  {
   "cell_type": "code",
   "execution_count": null,
   "metadata": {},
   "outputs": [],
   "source": []
  }
 ],
 "metadata": {
  "kernelspec": {
   "display_name": "Python 3",
   "language": "python",
   "name": "python3"
  },
  "language_info": {
   "codemirror_mode": {
    "name": "ipython",
    "version": 3
   },
   "file_extension": ".py",
   "mimetype": "text/x-python",
   "name": "python",
   "nbconvert_exporter": "python",
   "pygments_lexer": "ipython3",
   "version": "3.11.7"
  }
 },
 "nbformat": 4,
 "nbformat_minor": 2
}
