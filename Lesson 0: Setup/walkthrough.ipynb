{
 "cells": [
  {
   "cell_type": "markdown",
   "metadata": {},
   "source": [
    "## Step 1: Download VSCode\n",
    "Go to this [URL](https://code.visualstudio.com/download) to download the latest stable version of Visual Studio Code. This will be our IDE for the rest of the course. VSCode is a text editor, so this is where you will be writing and editing all of your programs. Once downloaded, install the Jupyter and Python extension packages for VSCode. This will allow you to run Jupyter notebooks from within VSCode."
   ]
  },
  {
   "cell_type": "markdown",
   "metadata": {},
   "source": [
    "## Step 2: Setup Github\n",
    "For the purpose of this course, we'll be using Github Desktop to eliminate the need to learn terminal commands. If you already have git installed and working, you can skip this step. Otherwise, go to this [URL](https://desktop.github.com/) to download Github Desktop."
   ]
  },
  {
   "cell_type": "markdown",
   "metadata": {},
   "source": [
    "## Step 3: Create a Working Directory \n",
    "Clone this repository to your computer using Github Desktop or by running ```git clone https://github.com/usc-datasc/lessons.git```. Ensure that the path to which you clone it is a directory that you can easily access. This will be your working directory for the rest of the course."
   ]
  },
  {
   "cell_type": "markdown",
   "metadata": {},
   "source": [
    "## Step 4: Install Miniconda\n",
    "Miniconda is a package manager that will allow us to install all of the necessary packages for this course. Go to this [URL](https://docs.conda.io/projects/miniconda/en/latest/) and download the latest stable version of miniconda for your platform. Be sure to download the hash file, not the .pkg or executable. Open a terminal, change directories into the file's download location, and run ```sudo bash Miniconda3-latest-Linux-x86_64.sh``` or ```sudo bash Miniconda3-latest-MacOSX-x86_64.sh``` depending on your platform. Follow the prompts to install Miniconda. Be sure to enable Miniconda on startup."
   ]
  },
  {
   "cell_type": "markdown",
   "metadata": {},
   "source": [
    "## Step 5: Add Miniconda to your PATH\n",
    "Open a terminal to your home directory (usually /Users/username) and run ```vim .zshrc```. Inside the file, add the following line: ```export PATH=\"/Users/username/miniconda3/bin:$PATH\"```. Replace \"username\" with your actual username, and modify the path as needed to match the installation destination of your miniconda instance. Save and exit the file. Restart your terminal and run ```conda --version```. If you see a version number, you have successfully added Miniconda to your PATH. Finally, run ```conda init``` and ```source ~/.zshrc``` to complete the process."
   ]
  },
  {
   "cell_type": "markdown",
   "metadata": {},
   "source": [
    "## Step 6: Create a Conda Environment for DataSC\n",
    "Open a terminal and run ```conda create -n datasc python=3.11```. This will create a new conda environment called \"datasc\" with python version 3.8. Activate the environment by running ```conda activate datasc```. You should see \"(datasc)\" at the beginning of your terminal prompt."
   ]
  },
  {
   "cell_type": "markdown",
   "metadata": {},
   "source": [
    "## Step 7: Install All Necessary Python Packages\n",
    "Change directories into the working directory you created in Step 3. Run ```pip install -r requirements.txt``` to install all of the necessary packages for this course. If you run into any errors, please contact the instructor."
   ]
  },
  {
   "cell_type": "markdown",
   "metadata": {},
   "source": [
    "## Step 8: Check Your Installation\n",
    "Open your working directory in VSCode. Open ```walkthrough.ipynb``` and select your kernel as the environment you just created. Run the below cell to check your installation. If you see a plot of a sine wave, you have successfully installed all of the necessary packages for this course."
   ]
  },
  {
   "cell_type": "code",
   "execution_count": null,
   "metadata": {},
   "outputs": [],
   "source": [
    "import matplotlib.pyplot as plt\n",
    "import numpy as np\n",
    "\n",
    "x = np.arange(0, 3*np.pi, 0.1)\n",
    "y = np.sin(x)\n",
    "plt.plot(x,y)"
   ]
  }
 ],
 "metadata": {
  "kernelspec": {
   "display_name": "Python 3",
   "language": "python",
   "name": "python3"
  },
  "language_info": {
   "codemirror_mode": {
    "name": "ipython",
    "version": 3
   },
   "file_extension": ".py",
   "mimetype": "text/x-python",
   "name": "python",
   "nbconvert_exporter": "python",
   "pygments_lexer": "ipython3",
   "version": "3.11.7"
  }
 },
 "nbformat": 4,
 "nbformat_minor": 2
}
