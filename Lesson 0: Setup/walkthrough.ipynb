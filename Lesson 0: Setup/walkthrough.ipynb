{
 "cells": [
  {
   "cell_type": "markdown",
   "metadata": {},
   "source": [
    "## Step 1: Download VSCode\n",
    "Go to this [URL](https://code.visualstudio.com/download) to download the latest stable version of Visual Studio Code. This will be our IDE for the rest of the course."
   ]
  }
 ],
 "metadata": {
  "language_info": {
   "name": "python"
  }
 },
 "nbformat": 4,
 "nbformat_minor": 2
}
